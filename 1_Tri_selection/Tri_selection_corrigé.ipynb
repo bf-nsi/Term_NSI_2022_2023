{
 "cells": [
  {
   "cell_type": "markdown",
   "metadata": {
    "colab_type": "text",
    "id": "qAHZ3d1ICy1I"
   },
   "source": [
    "---\n",
    "# **Séquence 1 : TP - Algorithmes de tri**\n",
    "\n",
    "---\n",
    "\n"
   ]
  },
  {
   "cell_type": "markdown",
   "metadata": {
    "colab_type": "text",
    "id": "S_QK3YqE7P-b"
   },
   "source": [
    "## **Comment ranger des données afin de faciliter leur accès futur ?**\n",
    "  \n",
    "C’est par exemple l’ordre alphabétique du dictionnaire, où les mots sont rangés dans un ordre logique qui permet de ne pas devoir parcourir tout l’ouvrage pour retrouver une définition. Ce peut être aussi l’ordre intuitif dans lequel un joueur de cartes va ranger son jeu afin de limiter le temps de recherche pendant le  déroulement de la partie. En informatique, le tri des données en vue d'en facilité l'accès, est une activité récurrente comptant parmi les actions les plus réalisées sur une machine.\n",
    "\n",
    " \n",
    "Cette problématique permet d’introduire la notion de tri (avec plusieurs sens distincts : séparer, ordonner, choisir), qui correspond à un problème classique de l'algorithmique pouvant être mis en oeuvre de différentes manières. Nous en étudierons deux cette année : le **tri par insertion** et le **tri par sélection**.\n",
    "\n",
    "## **Activité :** Quelle méthode de tri utilisez vous naturellement?\n",
    "* Prenez une quinzaine de cartes dans un jeu et triez les, en tentant de décrire les étapes de votre méthode.  \n",
    "* Visionnez ensuite cette vidéo : [Illustration des algorithmes de tri](https://www.youtube.com/watch?v=14c5N8CfnUo)  \n",
    "* Reconnaissez-vous l'algorithme que vous avez employé?"
   ]
  },
  {
   "cell_type": "markdown",
   "metadata": {
    "colab_type": "text",
    "id": "pERNtOP4WD8x"
   },
   "source": [
    "Vous pourrez par la suite revenir à cette vidéo pour vous aider à assimiler les deux méthodes de tri présentées ci-dessous."
   ]
  },
  {
   "cell_type": "markdown",
   "metadata": {
    "colab_type": "text",
    "id": "rtLvpcEoQ07x"
   },
   "source": [
    "# **Le tri par selection**\n",
    "\n",
    "**Principe :**\n",
    "* On cherche le minimum dans la liste.\n",
    "* On échange ce minimum avec le premier élément de la liste.\n",
    "* On recommence avec le reste de la liste, jusqu’au dernier élément.\n",
    " \n",
    "![Texte alternatif…](https://upload.wikimedia.org/wikipedia/commons/9/94/Selection-Sort-Animation.gif)\n",
    "\n",
    "### **Algorithme :**\n",
    "**fonction tri_selection(liste L)->liste**\n",
    "> n ← taille de L  \n",
    "> pour i allant de 1 à n-1  \n",
    ">>min ← i  \n",
    ">>pour j allant de i+1 à n  \n",
    ">>>si L[j] < L[min] alors min ← j  \n",
    "\n",
    ">>fin pour  \n",
    ">>si min ≠ i alors échanger L[i] et L[min]\n",
    "\n",
    ">fin pour  \n",
    ">retourner L\n",
    "\n",
    "**fin fonction**"
   ]
  },
  {
   "cell_type": "markdown",
   "metadata": {
    "colab_type": "text",
    "id": "0XZ1wsrdYU6q"
   },
   "source": [
    "### **Exercice 1 : Codage du tri par selection** \n",
    "* Executer sur papier cet algorithme sur la liste [9,6,1,4,8]\n",
    "* Traduisez cet algorithme en langage Python dans la cellule de code ci-dessous.\n",
    "\n",
    "\n"
   ]
  },
  {
   "cell_type": "code",
   "execution_count": 0,
   "metadata": {
    "colab": {},
    "colab_type": "code",
    "id": "1xC4g5aJYU6-"
   },
   "outputs": [],
   "source": [
    "def tri_selection(L:list)->list :\n",
    "  \"\"\"\n",
    "  Entrée : Liste L\n",
    "  Sortie : Liste L triée par ordre croissant \n",
    "  \"\"\"\n",
    "  n=len(L)\n",
    "  for i in range(0,n-1):\n",
    "    min = i\n",
    "    for j in range (i+1,n):\n",
    "      if L[j]<L[min] :\n",
    "        min=j\n",
    "    if min!=i :\n",
    "      temp=L[i]\n",
    "      L[i]=L[min]\n",
    "      L[min]=temp\n",
    "  return L\n",
    "\n"
   ]
  },
  {
   "cell_type": "markdown",
   "metadata": {
    "colab_type": "text",
    "id": "dc9Pb8v_YU8R"
   },
   "source": [
    "* Effectuer des tests dans la cellule ci-dessous."
   ]
  },
  {
   "cell_type": "code",
   "execution_count": 0,
   "metadata": {
    "colab": {},
    "colab_type": "code",
    "id": "z875bqfeYU8g"
   },
   "outputs": [],
   "source": [
    "print(tri_selection([])) # Test sur liste vide\n",
    "#Effectuer vos tests ci-dessous.\n",
    "print(tri_selection([9,6,1,4,8]))\n",
    "print(tri_selection([29,46,5,12,98,12,1,4,8]))\n",
    "\n"
   ]
  },
  {
   "cell_type": "markdown",
   "metadata": {
    "colab_type": "text",
    "id": "1B7mHFblZ2gO"
   },
   "source": [
    "* A l'aide [Python Tutor](http://www.pythontutor.com/visualize.html#mode=edit), visualiser l'exécution du code de votre fonction *tri_selection* pour l'appel *tri_selection([9,6,1,4,8])*."
   ]
  },
  {
   "cell_type": "markdown",
   "metadata": {
    "colab_type": "text",
    "id": "ROzoEZpoQjNJ"
   },
   "source": [
    "### **Exercice 2 : Analyse du tri par selection** \n",
    "\n",
    "* Quelle est la complexité de cet algorithme?"
   ]
  },
  {
   "cell_type": "markdown",
   "metadata": {
    "colab_type": "text",
    "id": "E6koP5tHRDDN"
   },
   "source": [
    "<FONT color=\"green\">\n",
    "La boucle principale s'éxécute n fois. A chacune de ces itérations, la boucle interne s'éxécute n-i fois. La complexité sera d'ordre $O(n²)$.\n",
    "<br>\n",
    "Mathématiquement : $\\sum \\limits_{\\underset{}{i=0}}^{n-1} ((n-1)-i)=n(n-1)-\\sum \\limits_{\\underset{}{i=0}}^{n-1} i=\\frac {n(n-1)}{2}\\sim O(n²) $\n"
   ]
  },
  {
   "cell_type": "markdown",
   "metadata": {
    "colab_type": "text",
    "id": "2kApNLXMQjNy"
   },
   "source": [
    "* Etudier la terminaison de cet algorithme."
   ]
  },
  {
   "cell_type": "markdown",
   "metadata": {
    "colab_type": "text",
    "id": "6beERUwXR44X"
   },
   "source": [
    "<FONT color=\"green\">Ici, on utilise uniquement des boucles bornées, donc la terminaison est garantie."
   ]
  },
  {
   "cell_type": "markdown",
   "metadata": {
    "colab_type": "text",
    "id": "mAigJrBvQjOk"
   },
   "source": [
    "* Donner une expression en français d'un invariant de boucle."
   ]
  },
  {
   "cell_type": "markdown",
   "metadata": {
    "colab_type": "text",
    "id": "fb9R7DLlR7Dn"
   },
   "source": [
    "<FONT color=\"green\">A l'étape $k$, les éléments de $L[0..k]$ sont à leurs places définitives."
   ]
  },
  {
   "cell_type": "markdown",
   "metadata": {
    "colab_type": "text",
    "id": "FhjUrgQjRmKL"
   },
   "source": [
    "* Exposer (de manière informelle, en rédigeant un texte cours) des éléments de correction partielle de cette algorithme."
   ]
  },
  {
   "cell_type": "markdown",
   "metadata": {
    "colab_type": "text",
    "id": "YuMEKsjnR9aV"
   },
   "source": [
    "<FONT color=\"green\">\n",
    "INITIALISATION : \n",
    "<br>\n",
    "Si i=0, en fin d’exécution de la première itération, L[0] est la plus petite valeur du tableau.\n",
    "<br>\n",
    "Si i=1, en début d’itération, L[0] < L[1], donc L[0..1] est trié et L[0] est toujours la plus petite valeur du tableau, donc toutes les valeurs d’indices supérieurs ou égale à 1 sont plus grande que L[0].\n",
    "<br>\n",
    "CONSERVATION :On suppose vérifié cet invariant à un rang i quelconque.\n",
    "A la fin de la boucle, L[min] est la plus petite valeur dans L[i+1..n-1] et L[i]=L[min].\n",
    "Donc, L[i+1]>L[i] et le tableau L[0..i+1] est trié en ordre croissant.\n",
    "De plus, pour k dans [i+1;n-1], par définition de L[min], L[k]>L[i]\n",
    "L’invariant est donc vérifié au rang i+1.\n",
    "<br>\n",
    "SORTIE : Si i=n-1, le tableau est trié jusqu’au dernier rang, donc la correction partielle de cet algorithme est garantie.\n"
   ]
  },
  {
   "cell_type": "markdown",
   "metadata": {
    "colab_type": "text",
    "id": "rDUMuW5cBlIc"
   },
   "source": [
    "Si vous souhaitez étendre vos connaissances sur les algorithmes de tri, vous pouvez consulter le site suivant, qui présente des animations interessantes : [http://lwh.free.fr/pages/algo/tri/tri.htm](http://lwh.free.fr/pages/algo/tri/tri.htm)"
   ]
  },
  {
   "cell_type": "markdown",
   "metadata": {
    "colab_type": "text",
    "id": "WbKBsqCl0Zkz"
   },
   "source": [
    "**Remarques :** Le tri par selection et par insertion ont des complexités du même ordre. Cependant, le tri par insertion est moins coûteux lorsque la liste est \"presque\" triée. Nous verrons d'aures méthodes moins coûteuse en Terminale, mais le tri par insertion reste globalement interessant pour des listes avec peu d'éléments. "
   ]
  }
 ],
 "metadata": {
  "colab": {
   "collapsed_sections": [],
   "name": "Tri_corrigé.ipynb",
   "provenance": [],
   "toc_visible": true
  },
  "kernelspec": {
   "display_name": "Python 3",
   "language": "python",
   "name": "python3"
  },
  "language_info": {
   "codemirror_mode": {
    "name": "ipython",
    "version": 3
   },
   "file_extension": ".py",
   "mimetype": "text/x-python",
   "name": "python",
   "nbconvert_exporter": "python",
   "pygments_lexer": "ipython3",
   "version": "3.7.6"
  }
 },
 "nbformat": 4,
 "nbformat_minor": 1
}
