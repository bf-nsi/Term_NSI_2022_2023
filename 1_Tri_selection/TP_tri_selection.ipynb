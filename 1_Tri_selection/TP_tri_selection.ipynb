{
 "cells": [
  {
   "cell_type": "markdown",
   "metadata": {
    "colab_type": "text",
    "id": "qAHZ3d1ICy1I"
   },
   "source": [
    "---\n",
    "# **Séquence 1 : TP - Tri par sélection**\n",
    "\n",
    "---\n",
    "\n"
   ]
  },
  {
   "cell_type": "markdown",
   "metadata": {
    "colab_type": "text",
    "id": "S_QK3YqE7P-b"
   },
   "source": [
    "## **Comment ranger des données afin de faciliter leur accès futur ?**\n",
    "  \n",
    "C’est par exemple l’ordre alphabétique du dictionnaire, où les mots sont rangés dans un ordre logique qui permet de ne pas devoir parcourir tout l’ouvrage pour retrouver une définition. Ce peut être aussi l’ordre intuitif dans lequel un joueur de cartes va ranger son jeu afin de limiter le temps de recherche pendant le  déroulement de la partie. En informatique, le tri des données en vue d'en facilité l'accès, est une activité récurrente comptant parmi les actions les plus réalisées sur une machine.\n",
    "\n",
    " \n",
    "Cette problématique permet d’introduire la notion de tri (avec plusieurs sens distincts : séparer, ordonner, choisir), qui correspond à un problème classique de l'algorithmique pouvant être mis en oeuvre de différentes manières. Nous en étudierons deux cette année : le **tri par insertion** et le **tri par sélection**.\n",
    "\n",
    "## **Activité :** Quelle méthode de tri utilisez vous naturellement?\n",
    "* Prenez une quinzaine de cartes dans un jeu et triez les, en tentant de décrire les étapes de votre méthode.  \n",
    "* Visionnez ensuite cette vidéo : [Illustration des algorithmes de tri](https://www.youtube.com/watch?v=14c5N8CfnUo)  \n",
    "* Reconnaissez-vous l'algorithme que vous avez employé?"
   ]
  },
  {
   "cell_type": "markdown",
   "metadata": {
    "colab_type": "text",
    "id": "srdiui7SEbJY"
   },
   "source": [
    "<FONT color=\"green\">*Entrer votre réponse ici en double-cliquant sur la cellule.*"
   ]
  },
  {
   "cell_type": "markdown",
   "metadata": {
    "colab_type": "text",
    "id": "pERNtOP4WD8x"
   },
   "source": [
    "Vous pourrez par la suite revenir à cette vidéo pour vous aider à assimiler les deux méthodes de tri présentées ci-dessous."
   ]
  },
  {
   "cell_type": "markdown",
   "metadata": {
    "colab_type": "text",
    "id": "rtLvpcEoQ07x"
   },
   "source": [
    "# **Le tri par selection**\n",
    "\n",
    "**Principe :**\n",
    "* On cherche le minimum dans la liste.\n",
    "* On échange ce minimum avec le premier élément de la liste.\n",
    "* On recommence avec le reste de la liste, jusqu’au dernier élément.\n",
    " \n",
    "![Texte alternatif…](https://upload.wikimedia.org/wikipedia/commons/9/94/Selection-Sort-Animation.gif)\n",
    "\n",
    "### **Algorithme :**\n",
    "**fonction tri_selection(liste L)->liste**\n",
    "> n ← taille de L  \n",
    "> pour i allant de 0 à n-1  \n",
    ">>min ← i  \n",
    ">>pour j allant de i+1 à n  \n",
    ">>>si L[j] < L[min] alors min ← j  \n",
    "\n",
    ">>fin pour  \n",
    ">>si min ≠ i alors échanger L[i] et L[min]\n",
    "\n",
    ">fin pour  \n",
    ">retourner L\n",
    "\n",
    "**fin fonction**"
   ]
  },
  {
   "cell_type": "markdown",
   "metadata": {
    "colab_type": "text",
    "id": "0XZ1wsrdYU6q"
   },
   "source": [
    "### **Exercice 1 : Codage du tri par selection** \n",
    "* Executer sur papier cet algorithme sur la liste [9,6,1,4,8]\n",
    "* Traduisez cet algorithme en langage Python dans la cellule de code ci-dessous.\n",
    "\n",
    "\n"
   ]
  },
  {
   "cell_type": "code",
   "execution_count": 0,
   "metadata": {
    "colab": {},
    "colab_type": "code",
    "id": "1xC4g5aJYU6-"
   },
   "outputs": [],
   "source": [
    "def tri_selection(L:list)->list :\n",
    "  \"\"\"\n",
    "  Entrée : Liste L\n",
    "  Sortie : Liste L triée par ordre croissant \n",
    "  \"\"\"\n",
    "\n"
   ]
  },
  {
   "cell_type": "markdown",
   "metadata": {
    "colab_type": "text",
    "id": "dc9Pb8v_YU8R"
   },
   "source": [
    "* Effectuer des tests dans la cellule ci-dessous."
   ]
  },
  {
   "cell_type": "code",
   "execution_count": 0,
   "metadata": {
    "colab": {},
    "colab_type": "code",
    "id": "z875bqfeYU8g"
   },
   "outputs": [],
   "source": [
    "print(tri_selection([])) # Test sur liste vide\n",
    "#Effectuer vos tests ci-dessous.\n",
    "\n"
   ]
  },
  {
   "cell_type": "markdown",
   "metadata": {
    "colab_type": "text",
    "id": "1B7mHFblZ2gO"
   },
   "source": [
    "* A l'aide [Python Tutor](http://www.pythontutor.com/visualize.html#mode=edit), visualiser l'exécution du code de votre fonction *tri_selection* pour l'appel *tri_selection([9,6,1,4,8])*."
   ]
  },
  {
   "cell_type": "markdown",
   "metadata": {
    "colab_type": "text",
    "id": "ROzoEZpoQjNJ"
   },
   "source": [
    "### **Exercice 2 : Analyse du tri par selection** \n",
    "\n",
    "* Quelle est la complexité de cet algorithme?"
   ]
  },
  {
   "cell_type": "markdown",
   "metadata": {
    "colab_type": "text",
    "id": "E6koP5tHRDDN"
   },
   "source": [
    "<FONT color=\"green\">*Entrer votre réponse ici.*  \n"
   ]
  },
  {
   "cell_type": "markdown",
   "metadata": {
    "colab_type": "text",
    "id": "2kApNLXMQjNy"
   },
   "source": [
    "* Etudier la terminaison de cet algorithme."
   ]
  },
  {
   "cell_type": "markdown",
   "metadata": {
    "colab_type": "text",
    "id": "6beERUwXR44X"
   },
   "source": [
    "<FONT color=\"green\">*Entrer votre réponse ici.*"
   ]
  },
  {
   "cell_type": "markdown",
   "metadata": {
    "colab_type": "text",
    "id": "mAigJrBvQjOk"
   },
   "source": [
    "* Donner une expression en français d'un invariant de boucle."
   ]
  },
  {
   "cell_type": "markdown",
   "metadata": {
    "colab_type": "text",
    "id": "fb9R7DLlR7Dn"
   },
   "source": [
    "<FONT color=\"green\">*Entrer votre réponse ici.*"
   ]
  },
  {
   "cell_type": "markdown",
   "metadata": {
    "colab_type": "text",
    "id": "FhjUrgQjRmKL"
   },
   "source": [
    "* Exposer (de manière informelle, en rédigeant un texte cours) des éléments de correction partielle de cette algorithme."
   ]
  },
  {
   "cell_type": "markdown",
   "metadata": {
    "colab_type": "text",
    "id": "YuMEKsjnR9aV"
   },
   "source": [
    "<FONT color=\"green\">*Entrer votre réponse ici.*"
   ]
  },
  {
   "cell_type": "markdown",
   "metadata": {
    "colab_type": "text",
    "id": "rDUMuW5cBlIc"
   },
   "source": [
    "Si vous souhaitez étendre vos connaissances sur les algorithmes de tri, vous pouvez consulter le site suivant, qui présente des animations interessantes : [http://lwh.free.fr/pages/algo/tri/tri.htm](http://lwh.free.fr/pages/algo/tri/tri.htm)"
   ]
  }
 ],
 "metadata": {
  "colab": {
   "collapsed_sections": [],
   "name": "Tri.ipynb",
   "provenance": [],
   "toc_visible": true
  },
  "kernelspec": {
   "display_name": "Python 3",
   "language": "python",
   "name": "python3"
  },
  "language_info": {
   "codemirror_mode": {
    "name": "ipython",
    "version": 3
   },
   "file_extension": ".py",
   "mimetype": "text/x-python",
   "name": "python",
   "nbconvert_exporter": "python",
   "pygments_lexer": "ipython3",
   "version": "3.7.6"
  }
 },
 "nbformat": 4,
 "nbformat_minor": 1
}
